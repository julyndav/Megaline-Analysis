{
 "cells": [
  {
   "cell_type": "markdown",
   "metadata": {},
   "source": [
    "### Megaline Subscriber Analysis\n",
    "\n",
    "The following project will analyize subsciber behavior to help in determining what type of model has better accuracy finding the more popular plan, Ultra or Smart.\n",
    "\n",
    "We have access to behavior data about subscribers who have already switched to the new plans. For this classification task, we need to develop a model that will pick the right plan. Since we’ve already performed the data preprocessing step, we can move straight to creating the model.\n",
    "\n",
    "In this project, the threshold for accuracy is 0.75 and will be checked by using the test dataset.\n",
    "\n",
    "### Project Steps to take:\n",
    "- Open and look through the data file. Path to the file:datasets/users_behavior.csv Download dataset\n",
    "- Split the source data into a training set, a validation set, and a test set.\n",
    "- Investigate the quality of different models by changing hyperparameters. Briefly describe the findings of the study.\n",
    "- Check the quality of the model using the test set.\n",
    "- Additional task: sanity check the model. This data is more complex than what you’re used to working with, so it's not an easy task. We'll take a closer look at it later.\n",
    "\n",
    "### Data description\n",
    "Every observation in the dataset contains monthly behavior information about one user. The information given is as follows:\n",
    "- сalls — number of calls,\n",
    "- minutes — total call duration in minutes,\n",
    "- messages — number of text messages,\n",
    "- mb_used — Internet traffic used in MB,\n",
    "- is_ultra — plan for the current month (Ultra - 1, Smart - 0)."
   ]
  },
  {
   "cell_type": "markdown",
   "metadata": {},
   "source": [
    "## Preparing the Data\n",
    "- Download the data\n",
    "- Inspect and clean the data\n",
    "- Explore the data\n",
    "- Mold the data to Tidy data <i>(Tidy data is data that is easy to manipulate, model and visualize)</i>"
   ]
  },
  {
   "cell_type": "markdown",
   "metadata": {},
   "source": [
    "#### Import Libraries"
   ]
  },
  {
   "cell_type": "code",
   "execution_count": 1,
   "metadata": {},
   "outputs": [],
   "source": [
    "import pandas as pd                              #dataframe library\n",
    "import numpy as np                               #numpy provides n-dim object support\n",
    "import matplotlib.pyplot as plt                  #plotting library\n",
    "import seaborn as sns                            #plotting library"
   ]
  },
  {
   "cell_type": "code",
   "execution_count": 2,
   "metadata": {},
   "outputs": [],
   "source": [
    "#Sklearn Libraries\n",
    "from sklearn.tree import DecisionTreeClassifier      #decision tree classifications\n",
    "from sklearn import set_config\n",
    "from sklearn.metrics import accuracy_score           #used in determining accuracy\n",
    "from sklearn.model_selection import train_test_split #splitting dataframes\n",
    "from sklearn.ensemble import RandomForestClassifier\n",
    "from sklearn.linear_model import LogisticRegression"
   ]
  },
  {
   "cell_type": "markdown",
   "metadata": {},
   "source": [
    "#### Load and Review Data"
   ]
  },
  {
   "cell_type": "code",
   "execution_count": 3,
   "metadata": {},
   "outputs": [],
   "source": [
    "#Since we are working with csv files, using the sep function to handle the data in the spreadsheets\n",
    "try:\n",
    "    behavior = pd.read_csv('users_behavior.csv',sep=',')\n",
    "    \n",
    "except:\n",
    "    behavior = pd.read_csv('/datasets/users_behavior.csv', sep=',')"
   ]
  },
  {
   "cell_type": "code",
   "execution_count": 4,
   "metadata": {},
   "outputs": [
    {
     "data": {
      "text/html": [
       "<div>\n",
       "<style scoped>\n",
       "    .dataframe tbody tr th:only-of-type {\n",
       "        vertical-align: middle;\n",
       "    }\n",
       "\n",
       "    .dataframe tbody tr th {\n",
       "        vertical-align: top;\n",
       "    }\n",
       "\n",
       "    .dataframe thead th {\n",
       "        text-align: right;\n",
       "    }\n",
       "</style>\n",
       "<table border=\"1\" class=\"dataframe\">\n",
       "  <thead>\n",
       "    <tr style=\"text-align: right;\">\n",
       "      <th></th>\n",
       "      <th>calls</th>\n",
       "      <th>minutes</th>\n",
       "      <th>messages</th>\n",
       "      <th>mb_used</th>\n",
       "      <th>is_ultra</th>\n",
       "    </tr>\n",
       "  </thead>\n",
       "  <tbody>\n",
       "    <tr>\n",
       "      <th>0</th>\n",
       "      <td>40.0</td>\n",
       "      <td>311.90</td>\n",
       "      <td>83.0</td>\n",
       "      <td>19915.42</td>\n",
       "      <td>0</td>\n",
       "    </tr>\n",
       "    <tr>\n",
       "      <th>1</th>\n",
       "      <td>85.0</td>\n",
       "      <td>516.75</td>\n",
       "      <td>56.0</td>\n",
       "      <td>22696.96</td>\n",
       "      <td>0</td>\n",
       "    </tr>\n",
       "    <tr>\n",
       "      <th>2</th>\n",
       "      <td>77.0</td>\n",
       "      <td>467.66</td>\n",
       "      <td>86.0</td>\n",
       "      <td>21060.45</td>\n",
       "      <td>0</td>\n",
       "    </tr>\n",
       "    <tr>\n",
       "      <th>3</th>\n",
       "      <td>106.0</td>\n",
       "      <td>745.53</td>\n",
       "      <td>81.0</td>\n",
       "      <td>8437.39</td>\n",
       "      <td>1</td>\n",
       "    </tr>\n",
       "    <tr>\n",
       "      <th>4</th>\n",
       "      <td>66.0</td>\n",
       "      <td>418.74</td>\n",
       "      <td>1.0</td>\n",
       "      <td>14502.75</td>\n",
       "      <td>0</td>\n",
       "    </tr>\n",
       "  </tbody>\n",
       "</table>\n",
       "</div>"
      ],
      "text/plain": [
       "   calls  minutes  messages   mb_used  is_ultra\n",
       "0   40.0   311.90      83.0  19915.42         0\n",
       "1   85.0   516.75      56.0  22696.96         0\n",
       "2   77.0   467.66      86.0  21060.45         0\n",
       "3  106.0   745.53      81.0   8437.39         1\n",
       "4   66.0   418.74       1.0  14502.75         0"
      ]
     },
     "execution_count": 4,
     "metadata": {},
     "output_type": "execute_result"
    }
   ],
   "source": [
    "behavior.head()"
   ]
  },
  {
   "cell_type": "code",
   "execution_count": 5,
   "metadata": {},
   "outputs": [
    {
     "data": {
      "text/plain": [
       "(3214, 5)"
      ]
     },
     "execution_count": 5,
     "metadata": {},
     "output_type": "execute_result"
    }
   ],
   "source": [
    "behavior.shape"
   ]
  },
  {
   "cell_type": "markdown",
   "metadata": {},
   "source": [
    "The original dataset consists of 3214 rows with 5 columns"
   ]
  },
  {
   "cell_type": "markdown",
   "metadata": {},
   "source": [
    "#### Check for null values"
   ]
  },
  {
   "cell_type": "code",
   "execution_count": 6,
   "metadata": {},
   "outputs": [
    {
     "data": {
      "text/plain": [
       "False"
      ]
     },
     "execution_count": 6,
     "metadata": {},
     "output_type": "execute_result"
    }
   ],
   "source": [
    "behavior.isnull().values.any() # The use of 'any' will return a 'True' if any nulls are found."
   ]
  },
  {
   "cell_type": "code",
   "execution_count": 7,
   "metadata": {},
   "outputs": [
    {
     "name": "stdout",
     "output_type": "stream",
     "text": [
      "<class 'pandas.core.frame.DataFrame'>\n",
      "RangeIndex: 3214 entries, 0 to 3213\n",
      "Data columns (total 5 columns):\n",
      " #   Column    Non-Null Count  Dtype  \n",
      "---  ------    --------------  -----  \n",
      " 0   calls     3214 non-null   float64\n",
      " 1   minutes   3214 non-null   float64\n",
      " 2   messages  3214 non-null   float64\n",
      " 3   mb_used   3214 non-null   float64\n",
      " 4   is_ultra  3214 non-null   int64  \n",
      "dtypes: float64(4), int64(1)\n",
      "memory usage: 125.7 KB\n"
     ]
    }
   ],
   "source": [
    "behavior.info() #overview of data types we are working with and basic information about the dataset"
   ]
  },
  {
   "cell_type": "code",
   "execution_count": 8,
   "metadata": {},
   "outputs": [
    {
     "data": {
      "text/plain": [
       "calls       0\n",
       "minutes     0\n",
       "messages    0\n",
       "mb_used     0\n",
       "is_ultra    0\n",
       "dtype: int64"
      ]
     },
     "execution_count": 8,
     "metadata": {},
     "output_type": "execute_result"
    }
   ],
   "source": [
    "#check for NAs\n",
    "behavior.isna().sum()"
   ]
  },
  {
   "cell_type": "markdown",
   "metadata": {},
   "source": [
    "No 'NA' values have been found in the dataset.\n",
    "\n",
    "<b>Insight:</b> We need to make sure our data does not contain missing values as most machine algorithims cannot work with missing data. (NA/NaN) "
   ]
  },
  {
   "cell_type": "code",
   "execution_count": 9,
   "metadata": {},
   "outputs": [
    {
     "data": {
      "text/html": [
       "<div>\n",
       "<style scoped>\n",
       "    .dataframe tbody tr th:only-of-type {\n",
       "        vertical-align: middle;\n",
       "    }\n",
       "\n",
       "    .dataframe tbody tr th {\n",
       "        vertical-align: top;\n",
       "    }\n",
       "\n",
       "    .dataframe thead th {\n",
       "        text-align: right;\n",
       "    }\n",
       "</style>\n",
       "<table border=\"1\" class=\"dataframe\">\n",
       "  <thead>\n",
       "    <tr style=\"text-align: right;\">\n",
       "      <th></th>\n",
       "      <th>calls</th>\n",
       "      <th>minutes</th>\n",
       "      <th>messages</th>\n",
       "      <th>mb_used</th>\n",
       "      <th>is_ultra</th>\n",
       "    </tr>\n",
       "  </thead>\n",
       "  <tbody>\n",
       "  </tbody>\n",
       "</table>\n",
       "</div>"
      ],
      "text/plain": [
       "Empty DataFrame\n",
       "Columns: [calls, minutes, messages, mb_used, is_ultra]\n",
       "Index: []"
      ]
     },
     "execution_count": 9,
     "metadata": {},
     "output_type": "execute_result"
    }
   ],
   "source": [
    "#check for duplicates\n",
    "duplicate = behavior[behavior.duplicated()]\n",
    "duplicate"
   ]
  },
  {
   "cell_type": "markdown",
   "metadata": {},
   "source": [
    "No missing values or duplicates"
   ]
  },
  {
   "cell_type": "markdown",
   "metadata": {},
   "source": [
    "### Check Smart/Ultra ratio"
   ]
  },
  {
   "cell_type": "code",
   "execution_count": 10,
   "metadata": {},
   "outputs": [
    {
     "name": "stdout",
     "output_type": "stream",
     "text": [
      "Number of Smart plans: 2229 (69.35%)\n",
      "Number of Ultra plans: 985 (30.65%)\n"
     ]
    }
   ],
   "source": [
    "is_smart= len(behavior.loc[behavior['is_ultra'] == 0])\n",
    "is_ultra= len(behavior.loc[behavior['is_ultra'] == 1])\n",
    "\n",
    "print(\"Number of Smart plans: {0} ({1:2.2f}%)\".format(is_smart, (is_smart/(is_smart+is_ultra))*100))\n",
    "print(\"Number of Ultra plans: {0} ({1:2.2f}%)\".format(is_ultra, (is_ultra/(is_smart+is_ultra))*100))"
   ]
  },
  {
   "cell_type": "markdown",
   "metadata": {},
   "source": [
    "<b>Insight:</b> Smart Plans comprise almost 70% of the user base while the Ultra plan makes up the remaining 30% of users.  With Smart plans having such a strong hold on user base, so far the Smart plans is the most popular. "
   ]
  },
  {
   "cell_type": "markdown",
   "metadata": {},
   "source": [
    "### Brief EDA"
   ]
  },
  {
   "cell_type": "code",
   "execution_count": 11,
   "metadata": {},
   "outputs": [
    {
     "data": {
      "image/png": "[encoded data removed]",
      "text/plain": [
       "<Figure size 1080x360 with 6 Axes>"
      ]
     },
     "metadata": {
      "needs_background": "light"
     },
     "output_type": "display_data"
    }
   ],
   "source": [
    "behavior.hist(linewidth=1.5, figsize=(15,5));\n",
    "plt.tight_layout()\n",
    "plt.show()"
   ]
  },
  {
   "cell_type": "markdown",
   "metadata": {},
   "source": [
    "<b>Insights:</b> The above histogram plots give a graphical representation of the data. We can see how many calls users typically make, how many minutes they use on their plan, number of messages sent, data used and which plan has the most users.  The calls, minutes and mb_used plots are pretty much identical due to their properties. Higher calls = higher minutes = more data (mb) used.\n",
    "<p>\n",
    "The 'features' of the dataset seem fairly balanced, no glaring anomalies are shown. We can already see what the most used plan is from the 'is_ultra' histogram. Now to determine which model would give us the greatest accuracy to prove what we are seeing. "
   ]
  },
  {
   "cell_type": "markdown",
   "metadata": {},
   "source": [
    "## Solution Creation\n",
    "\n",
    "Using the Machine Learning Workflow to process and transfrom user behavior data to create prediction models. These models will analyze users behavior and from the model with the highest possible accuracy; we can use that to determine the best mobile plan."
   ]
  },
  {
   "cell_type": "markdown",
   "metadata": {},
   "source": [
    "## 2. Split the source data into a training set, a validation set, and a test set."
   ]
  },
  {
   "cell_type": "markdown",
   "metadata": {},
   "source": [
    "Using more functions from the sklearn library, the original dataset will be split into a Training, Validation and Test sets. The Training set will consist of 60% of the dataset with the Test and Validation taking 20% each.  "
   ]
  },
  {
   "cell_type": "code",
   "execution_count": 12,
   "metadata": {},
   "outputs": [],
   "source": [
    "from sklearn.model_selection import train_test_split "
   ]
  },
  {
   "cell_type": "code",
   "execution_count": 13,
   "metadata": {},
   "outputs": [],
   "source": [
    "#20% of dataset used as TESTING SET and rest as training. TEST set used as final test.\n",
    "behavior_train_full, behavior_test = train_test_split(behavior, test_size = 0.2, random_state=12345) \n",
    "\n",
    "#splitting training dataset to get validation set. Use .25 as 20/80 is .25.  after the test set we have 80% left\n",
    "behavior_train, behavior_valid = train_test_split(behavior_train_full, test_size = 0.25, random_state=12345)\n",
    "#using behavior_train_full as that is our original df for splitting. \n",
    "#it's what we got our testing set from so use to get validation set\n"
   ]
  },
  {
   "cell_type": "code",
   "execution_count": 14,
   "metadata": {},
   "outputs": [
    {
     "name": "stdout",
     "output_type": "stream",
     "text": [
      "(1928, 5)\n",
      "(643, 5)\n",
      "(643, 5)\n"
     ]
    }
   ],
   "source": [
    "# lets see the set sizes\n",
    "\n",
    "print(behavior_train.shape)\n",
    "print(behavior_valid.shape)\n",
    "print(behavior_test.shape)"
   ]
  },
  {
   "cell_type": "markdown",
   "metadata": {},
   "source": [
    "The Validation and Test sets are the same (20% each) and the Training set at the desired 60% (3x the validation and test sets)"
   ]
  },
  {
   "cell_type": "markdown",
   "metadata": {},
   "source": [
    "### Features and Target\n",
    "\n",
    "Now to take only the columns relevant to our analysis and create separate dataframes.  We will take the 'features' and separate them from our 'target', which are the phone plans.  For this, training and validation sets will be used. "
   ]
  },
  {
   "cell_type": "code",
   "execution_count": 15,
   "metadata": {},
   "outputs": [],
   "source": [
    "#Features - this will separate the dataframe to show only the features\n",
    "features_train= behavior_train.drop(['is_ultra'], axis=1) #this drops the 'is_ultra' column as that is our target\n",
    "target_train = behavior_train['is_ultra']\n",
    "features_valid = behavior_valid.drop(['is_ultra'], axis=1)\n",
    "target_valid = behavior_valid['is_ultra']"
   ]
  },
  {
   "cell_type": "code",
   "execution_count": 16,
   "metadata": {},
   "outputs": [
    {
     "name": "stdout",
     "output_type": "stream",
     "text": [
      "(1928, 4)\n",
      "(1928,)\n",
      "(643, 4)\n",
      "(643,)\n"
     ]
    }
   ],
   "source": [
    "print(features_train.shape)\n",
    "print(target_train.shape)\n",
    "print(features_valid.shape)\n",
    "print(target_valid.shape)"
   ]
  },
  {
   "cell_type": "code",
   "execution_count": 17,
   "metadata": {},
   "outputs": [
    {
     "data": {
      "text/html": [
       "<div>\n",
       "<style scoped>\n",
       "    .dataframe tbody tr th:only-of-type {\n",
       "        vertical-align: middle;\n",
       "    }\n",
       "\n",
       "    .dataframe tbody tr th {\n",
       "        vertical-align: top;\n",
       "    }\n",
       "\n",
       "    .dataframe thead th {\n",
       "        text-align: right;\n",
       "    }\n",
       "</style>\n",
       "<table border=\"1\" class=\"dataframe\">\n",
       "  <thead>\n",
       "    <tr style=\"text-align: right;\">\n",
       "      <th></th>\n",
       "      <th>calls</th>\n",
       "      <th>minutes</th>\n",
       "      <th>messages</th>\n",
       "      <th>mb_used</th>\n",
       "    </tr>\n",
       "  </thead>\n",
       "  <tbody>\n",
       "    <tr>\n",
       "      <th>2656</th>\n",
       "      <td>30.0</td>\n",
       "      <td>185.07</td>\n",
       "      <td>34.0</td>\n",
       "      <td>17166.53</td>\n",
       "    </tr>\n",
       "    <tr>\n",
       "      <th>823</th>\n",
       "      <td>42.0</td>\n",
       "      <td>290.69</td>\n",
       "      <td>77.0</td>\n",
       "      <td>21507.03</td>\n",
       "    </tr>\n",
       "    <tr>\n",
       "      <th>2566</th>\n",
       "      <td>41.0</td>\n",
       "      <td>289.83</td>\n",
       "      <td>15.0</td>\n",
       "      <td>22151.73</td>\n",
       "    </tr>\n",
       "    <tr>\n",
       "      <th>1451</th>\n",
       "      <td>45.0</td>\n",
       "      <td>333.49</td>\n",
       "      <td>50.0</td>\n",
       "      <td>17275.47</td>\n",
       "    </tr>\n",
       "    <tr>\n",
       "      <th>2953</th>\n",
       "      <td>43.0</td>\n",
       "      <td>300.39</td>\n",
       "      <td>69.0</td>\n",
       "      <td>17277.83</td>\n",
       "    </tr>\n",
       "  </tbody>\n",
       "</table>\n",
       "</div>"
      ],
      "text/plain": [
       "      calls  minutes  messages   mb_used\n",
       "2656   30.0   185.07      34.0  17166.53\n",
       "823    42.0   290.69      77.0  21507.03\n",
       "2566   41.0   289.83      15.0  22151.73\n",
       "1451   45.0   333.49      50.0  17275.47\n",
       "2953   43.0   300.39      69.0  17277.83"
      ]
     },
     "execution_count": 17,
     "metadata": {},
     "output_type": "execute_result"
    }
   ],
   "source": [
    "#Features df and overview\n",
    "features_train.head()"
   ]
  },
  {
   "cell_type": "code",
   "execution_count": 18,
   "metadata": {},
   "outputs": [
    {
     "data": {
      "text/plain": [
       "2656    0\n",
       "823     0\n",
       "2566    0\n",
       "1451    0\n",
       "2953    0\n",
       "Name: is_ultra, dtype: int64"
      ]
     },
     "execution_count": 18,
     "metadata": {},
     "output_type": "execute_result"
    }
   ],
   "source": [
    "#Target df and overview\n",
    "target_train.head()"
   ]
  },
  {
   "cell_type": "markdown",
   "metadata": {},
   "source": [
    "Luckily our target variables are already numeric values so nothing needs to be encoded (changed)!"
   ]
  },
  {
   "cell_type": "markdown",
   "metadata": {},
   "source": [
    "## 3. Investigate the quality of different models by changing hyperparameters. Briefly describe the findings of the study."
   ]
  },
  {
   "cell_type": "markdown",
   "metadata": {},
   "source": [
    "In this section we are going to figure out the best hyperparameters for each of the 3 learning algorithms:\n",
    "\n",
    "- Decision Tree\n",
    "- Random Forest\n",
    "- Logistic Regression"
   ]
  },
  {
   "cell_type": "markdown",
   "metadata": {},
   "source": [
    "### Decision Tree"
   ]
  },
  {
   "cell_type": "code",
   "execution_count": 19,
   "metadata": {},
   "outputs": [
    {
     "name": "stdout",
     "output_type": "stream",
     "text": [
      "max_depth = 1 : 73.87\n",
      "max_depth = 2 : 75.74\n",
      "max_depth = 3 : 76.52\n",
      "max_depth = 4 : 76.36\n",
      "max_depth = 5 : 75.89\n",
      "max_depth = 6 : 75.74\n",
      "max_depth = 7 : 77.45\n",
      "max_depth = 8 : 76.67\n",
      "max_depth = 9 : 76.21\n"
     ]
    }
   ],
   "source": [
    "\n",
    "for depth in range(1, 10):\n",
    "    # create a model with the given depth\n",
    "    model = DecisionTreeClassifier(random_state=12345, max_depth=depth)#classifier as using category of 0 or 1 to phone plan\n",
    "    model.fit(features_train, target_train) # train the model\n",
    "    predictions_valid = model.predict(features_valid) #find the predictions using validation set. get the model's predictions\n",
    "    dt_acc = round(accuracy_score(target_valid, predictions_valid)*100,2)\n",
    "    \n",
    "    print('max_depth =', depth, ': ', end='')\n",
    "    print(dt_acc) # calculate the accuracy and format the result\n",
    "    "
   ]
  },
  {
   "cell_type": "markdown",
   "metadata": {},
   "source": [
    "<b>Insight:</b> From the above descision tree loop, depth 7 gave the best accuracy of 77.45% using the validation set. This means for all of the values we attempted to predict, 77.45% of them were correct.\n",
    "<p>\n",
    "A deeper tree may mean higher performance for the training data, but it can lead to overfitting so tree depth is kept at 10.  We can see after depth 7 that the percentage is starting to decline."
   ]
  },
  {
   "cell_type": "markdown",
   "metadata": {},
   "source": [
    "### Random Forest Classifier\n",
    "\n",
    "Decision trees are prone to overfitting. However, you can remove this problem by using a random forest; the automated handling of creating more decision trees. "
   ]
  },
  {
   "cell_type": "code",
   "execution_count": 20,
   "metadata": {},
   "outputs": [
    {
     "name": "stdout",
     "output_type": "stream",
     "text": [
      "Best accuracy: 79.63 obtained using 3 trees with max_depth 9.\n"
     ]
    }
   ],
   "source": [
    "best_score = 0\n",
    "best_est = 0\n",
    "model_forest = None\n",
    "\n",
    "for est in range(1, 10): #using same range as decision tree\n",
    "    model = RandomForestClassifier(random_state=12345, max_depth=depth, n_estimators=est)\n",
    "    model.fit(features_train, target_train)\n",
    "    rfc_score = round(model.score(features_valid, target_valid)*100,2)# round()*100,2 will format the running decimal to a percent\n",
    "    \n",
    "    if rfc_score > best_score:\n",
    "        best_score = rfc_score\n",
    "        best_est = est\n",
    "        model_forest = model\n",
    "\n",
    "print(f\"Best accuracy: {best_score} obtained using {best_est} trees with\\\n",
    " max_depth {depth}.\")\n"
   ]
  },
  {
   "cell_type": "markdown",
   "metadata": {},
   "source": [
    "The Random Forest model provides the best level of accuracy so far at 79.63%; better than any of the descision tree levels.  It's also better than our threshold which is 75%"
   ]
  },
  {
   "cell_type": "markdown",
   "metadata": {},
   "source": [
    "### Logistic Regression\n",
    "\n",
    "Logistic regression aims to solve classification problems. It does this by predicting categorical outcomes"
   ]
  },
  {
   "cell_type": "code",
   "execution_count": 21,
   "metadata": {},
   "outputs": [
    {
     "name": "stdout",
     "output_type": "stream",
     "text": [
      "Accuracy of the logistic regression model on the training set: 74.22 %\n",
      "Accuracy of the logistic regression model on the validation set: 72.94 %\n"
     ]
    }
   ],
   "source": [
    "# initialize logistic regression constructor with parameters random_state=54321 and solver='liblinear'\n",
    "model =  LogisticRegression(random_state=12345, solver='liblinear') \n",
    "model.fit(features_train, target_train)\n",
    "score_train = round(model.score(features_train, target_train)*100,2)\n",
    "score_valid = round(model.score(features_valid, target_valid)*100,2)\n",
    "\n",
    "print(\n",
    "    \"Accuracy of the logistic regression model on the training set:\",\n",
    "    score_train,\"%\"\n",
    ")\n",
    "print(\n",
    "    \"Accuracy of the logistic regression model on the validation set:\",\n",
    "    score_valid,\"%\"\n",
    ")"
   ]
  },
  {
   "cell_type": "markdown",
   "metadata": {},
   "source": [
    "The Logistic Regression model performed below both of the other models we tested. The threshold for accuracy was 75% and both the training and validation sets are below that threshold. The lower validation accuracy may indicate some overfitting."
   ]
  },
  {
   "cell_type": "markdown",
   "metadata": {},
   "source": [
    "## 4. Check the quality of the model using the test set.\n"
   ]
  },
  {
   "cell_type": "code",
   "execution_count": 22,
   "metadata": {},
   "outputs": [],
   "source": [
    "# Test Set\n",
    "features_test = behavior_test.drop(['is_ultra'], axis=1)\n",
    "target_test = behavior_test['is_ultra']\n"
   ]
  },
  {
   "cell_type": "code",
   "execution_count": 23,
   "metadata": {},
   "outputs": [],
   "source": [
    "from sklearn.metrics import accuracy_score"
   ]
  },
  {
   "cell_type": "code",
   "execution_count": null,
   "metadata": {},
   "outputs": [],
   "source": []
  },
  {
   "cell_type": "code",
   "execution_count": 24,
   "metadata": {},
   "outputs": [
    {
     "name": "stdout",
     "output_type": "stream",
     "text": [
      "Evaluation Results for the Best Model:\n",
      "     Metric  Score\n",
      "0  Accuracy  79.32\n"
     ]
    }
   ],
   "source": [
    "y_pred = model_forest.predict(features_test)\n",
    "\n",
    "accuracy = round(accuracy_score(target_test, y_pred)*100,2)\n",
    "\n",
    "# Create a pandas DataFrame to store the evaluation results\n",
    "evaluation_results = pd.DataFrame({\n",
    "    \"Metric\": [\"Accuracy\"],\n",
    "    \"Score\": [accuracy]\n",
    "})\n",
    "\n",
    "print(\"Evaluation Results for the Best Model:\")\n",
    "print(evaluation_results)"
   ]
  },
  {
   "cell_type": "markdown",
   "metadata": {},
   "source": [
    "Checking the quality of our Random Forest model against the test set, our accuracy is still high with 79.32% "
   ]
  },
  {
   "cell_type": "markdown",
   "metadata": {},
   "source": [
    "## 5. Sanity check the model"
   ]
  },
  {
   "cell_type": "markdown",
   "metadata": {},
   "source": [
    "DummyClassifier makes predictions that ignore the input features. This classifier serves as a simple baseline to compare against other more complex classifiers. If we don’t know how our model is performing against a baseline, how can we improve it?\n",
    "<p>\n",
    "    \n",
    "Below are the links that aided in the sanity check:    \n",
    "\n",
    "__[Simple Sanity Check](https://scikit-learn.org/stable/modules/model_evaluation.html#dummy-estimators)__\n",
    "\n",
    "__[DummyClassifier Tutorial](https://scikit-learn.org/stable/modules/generated/sklearn.dummy.DummyClassifier.html#sklearn.dummy.DummyClassifier)__"
   ]
  },
  {
   "cell_type": "code",
   "execution_count": 25,
   "metadata": {},
   "outputs": [],
   "source": [
    "from sklearn.dummy import DummyClassifier"
   ]
  },
  {
   "cell_type": "code",
   "execution_count": 26,
   "metadata": {},
   "outputs": [
    {
     "name": "stdout",
     "output_type": "stream",
     "text": [
      "Accuracy of Dummy Model: 69.52 %\n"
     ]
    }
   ],
   "source": [
    "# Dummy Model\n",
    "\n",
    "# random_state controls the randomness to generate the prediction\n",
    "#“most_frequent”: the predict method always returns the most frequent class label in the observed y argument passed to fit\n",
    "clf = DummyClassifier(strategy='most_frequent', random_state=0)\n",
    "clf.fit(features_train, target_train) #'target_train' is the y argument\n",
    "\n",
    "DummyClassifier(random_state=0, strategy='most_frequent')\n",
    "dum_acc = round(clf.score(features_test, target_test)*100,2)\n",
    "print(\"Accuracy of Dummy Model:\", dum_acc,\"%\")"
   ]
  },
  {
   "cell_type": "markdown",
   "metadata": {},
   "source": [
    "Using the sckit learn website, a simply way to check the Sanity of our models was found.  There is now a baseline accuracy percentage that the other models can be compared to. This will be done below. "
   ]
  },
  {
   "cell_type": "code",
   "execution_count": 27,
   "metadata": {},
   "outputs": [
    {
     "data": {
      "text/html": [
       "<div>\n",
       "<style scoped>\n",
       "    .dataframe tbody tr th:only-of-type {\n",
       "        vertical-align: middle;\n",
       "    }\n",
       "\n",
       "    .dataframe tbody tr th {\n",
       "        vertical-align: top;\n",
       "    }\n",
       "\n",
       "    .dataframe thead th {\n",
       "        text-align: right;\n",
       "    }\n",
       "</style>\n",
       "<table border=\"1\" class=\"dataframe\">\n",
       "  <thead>\n",
       "    <tr style=\"text-align: right;\">\n",
       "      <th></th>\n",
       "      <th>0</th>\n",
       "    </tr>\n",
       "  </thead>\n",
       "  <tbody>\n",
       "    <tr>\n",
       "      <th>Random Forest</th>\n",
       "      <td>79.63</td>\n",
       "    </tr>\n",
       "    <tr>\n",
       "      <th>Decision Tree</th>\n",
       "      <td>77.45</td>\n",
       "    </tr>\n",
       "    <tr>\n",
       "      <th>Logistic Regression</th>\n",
       "      <td>72.49</td>\n",
       "    </tr>\n",
       "    <tr>\n",
       "      <th>Dummy Model</th>\n",
       "      <td>69.52</td>\n",
       "    </tr>\n",
       "  </tbody>\n",
       "</table>\n",
       "</div>"
      ],
      "text/plain": [
       "                         0\n",
       "Random Forest        79.63\n",
       "Decision Tree        77.45\n",
       "Logistic Regression  72.49\n",
       "Dummy Model          69.52"
      ]
     },
     "execution_count": 27,
     "metadata": {},
     "output_type": "execute_result"
    }
   ],
   "source": [
    "#creating a small df to hold the modeling results\n",
    "model_results = pd.DataFrame({'Decision Tree' : [77.45], #values are manually entered\n",
    "                        'Random Forest': [79.63],\n",
    "                        'Logistic Regression': [72.49],\n",
    "                        'Dummy Model'  : [69.52]\n",
    "                        })\n",
    "model_results.T.sort_values(by=0, ascending=False) #The T attribute after the DataFrame is used to transpose the DataFrame. "
   ]
  },
  {
   "cell_type": "markdown",
   "metadata": {},
   "source": [
    "<i><b>Coding Note:</b> Since the small 'model_results' dataFrame has rows that contain data for different variables and columns that contain data for different observations, applying \".T\" will flip it, making the rows represent observations and columns represent variables. Calling the '.sort_values()' method on the transposed DataFrame to sort it by the values in the column labeled 0 in descending order (as indicated by ascending=False)</i>"
   ]
  },
  {
   "cell_type": "markdown",
   "metadata": {},
   "source": [
    "<b>Insight:</b> Now that there is a baseline accuracy reference, we can compare how our models did. Our Random Forest model performed better than expected at 79.63%.  Even though the Decision Tree returned multiple values from the max_depth loops, it still underperfromed to the Random Forest but the difference is less than a percent. "
   ]
  },
  {
   "cell_type": "markdown",
   "metadata": {},
   "source": [
    "***"
   ]
  },
  {
   "cell_type": "markdown",
   "metadata": {},
   "source": [
    "## Conclusion:"
   ]
  },
  {
   "cell_type": "markdown",
   "metadata": {},
   "source": [
    "This project used various modeling algorithums based on binary classification to analyze customer behavior and recommends one of Megaline mobile plans: Smart or Ultra plans.\n",
    "\n",
    "#### Prep and EDA\n",
    "The analysis was started by preparing and inspecting the data. There were no missing or duplicated values. Next some brief exploratory data analysis was conducted to take a further look into the data we were working with. Our 'features' showed no significant anomalies and were fairly balanced from the plot overviews. The calls, minutes and mb used are related so the histograms appear to be replicated but there were slight differences. \n",
    "\n",
    "Our 'taget' variable on the other hand showed a significant differnce and it's clear to see which of Megaline's plans it's customers perfer. Megaline's \"Smart\" plan is already 70% of it's customer's base. This imbalance may skew our modeling results. Luckily the target data type was already set in a 1's and 0's format for analysis and no encoding was needed. \n",
    "\n",
    "#### Modeling Algorithms\n",
    "After preparing and exploring the data, our next approach is modeling machine learning algorithms to the highest level of accuracy. This is done by first splitting our dataset into Training, Validation and Testing sets. \n",
    "\n",
    "The Random Forest model showed the highest accuracy at 79.63% on our validation set. Decision Tree and Logistic Regression were also used in the modeling process with Logistic Regression having the lowest accuracy percentage out of the 3 models. \n",
    "\n",
    "\n",
    "#### Quality and Sanity Checks\n",
    "To end out the analysis, we compared the quality of the models against the test set.  We used both the training and validation sets. The test set accuracy was right at our threshold of 75% followed by the training set at 74.2% and the validation set at almost 73%. \n",
    "\n",
    "Final step was to sanity check our model. To begin a baseline accuracy was found and the other learning models were compared to that. Against the baseline, our best learning model the Random Forest, was 10.11 percentage points more. "
   ]
  }
 ],
 "metadata": {
  "kernelspec": {
   "display_name": "Python 3 (ipykernel)",
   "language": "python",
   "name": "python3"
  },
  "language_info": {
   "codemirror_mode": {
    "name": "ipython",
    "version": 3
   },
   "file_extension": ".py",
   "mimetype": "text/x-python",
   "name": "python",
   "nbconvert_exporter": "python",
   "pygments_lexer": "ipython3",
   "version": "3.9.5"
  },
  "toc": {
   "base_numbering": 1,
   "nav_menu": {},
   "number_sections": false,
   "sideBar": true,
   "skip_h1_title": true,
   "title_cell": "Table of Contents",
   "title_sidebar": "Contents",
   "toc_cell": false,
   "toc_position": {},
   "toc_section_display": true,
   "toc_window_display": false
  }
 },
 "nbformat": 4,
 "nbformat_minor": 2
}
